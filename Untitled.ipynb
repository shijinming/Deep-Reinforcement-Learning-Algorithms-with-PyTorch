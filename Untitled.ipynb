{
 "cells": [
  {
   "cell_type": "code",
   "execution_count": 214,
   "metadata": {
    "scrolled": true
   },
   "outputs": [],
   "source": [
    "import numpy as np\n",
    "\n",
    "file_sac=\"../sac.txt\"\n",
    "file_random=\"../random.txt\"\n",
    "file_greedy=\"../greedy.txt\"\n",
    "output_file=\"../plot.txt\"\n",
    "\n",
    "with open(file_random) as f:\n",
    "    random_tmp=f.read().split(\"num_vehicles\")[1:]\n",
    "with open(file_greedy) as f:\n",
    "    greedy_tmp=f.read().split(\"num_vehicles\")[1:]\n",
    "\n",
    "random_result=[]\n",
    "greedy_result=[]\n",
    "for i in range(10):\n",
    "    random_item = np.array([0.0]*17)\n",
    "    greedy_item = np.array([0.0]*17)\n",
    "    for j in range(100):\n",
    "        random = random_tmp[j*10+i].split('\\n')[2:-1]\n",
    "        tmp=np.array([0.0]*17)\n",
    "        utility=-999\n",
    "        random_result_tmp=\"\"\n",
    "        for k in random:\n",
    "            if float(k.split(' ')[0])>utility:\n",
    "                utility = float(k.split(' ')[0])\n",
    "                random_result_tmp=k\n",
    "        random_item+=np.array([float(r) for r in random_result_tmp.split(' ')[:-1]])\n",
    "        greedy = greedy_tmp[j*10+i].split('\\n')[3]\n",
    "        greedy_item+=np.array([float(g) for g in greedy.split(' ')[:-1]])\n",
    "    random_result.append(random_item/100)\n",
    "    greedy_result.append(greedy_item/100)\n",
    "\n",
    "sac_result=np.array([[0.0]*21]*10)\n",
    "for i in [1,2,3,5]:\n",
    "    with open(\"../sac{}.txt\".format(i)) as f:\n",
    "        sac_tmp=f.read().split(\"num_vehicles\")[1:]\n",
    "    for j in range(10):\n",
    "        sac=sac_tmp[j].split('\\n')[10:-1]\n",
    "        utility=-999\n",
    "        sac_result_tmp=\"\"\n",
    "        for s in sac:\n",
    "            if float(s.split(' ')[0])>utility:\n",
    "                utility = float(s.split(' ')[0])\n",
    "                sac_result_tmp=s\n",
    "        tmp=np.array([float(s) for s in sac_result_tmp.split(' ')[:-1]]+[0]*4)\n",
    "        for n in range(4):\n",
    "            tmp[n+17]=4-tmp[n+5]//1000\n",
    "            tmp[n+5]=tmp[n+5]-(4-tmp[n+17])*1000\n",
    "        sac_result[j]+=tmp\n",
    "sac_result=np.array([i/4 for i in sac_result])\n",
    "\n",
    "output=open(output_file,'w+')\n",
    "output.write(\"utility_d=[\")\n",
    "output.write(','.join([str(r[0]) for r in random_result])+'\\n')\n",
    "output.write(','.join([str(g[0]) for g in greedy_result])+'\\n')\n",
    "output.write(','.join([str(s[0]) for s in sac_result])+'];\\n')\n",
    "output.write(\"ratio_h=[\")\n",
    "output.write(','.join([str(sum(r[9:13])/16) for r in random_result])+'\\n')\n",
    "output.write(','.join([str(sum(g[9:13])/16) for g in greedy_result])+'\\n')\n",
    "output.write(','.join([str(sum(s[9:13])/16) for s in sac_result])+'];\\n')\n",
    "output.write(\"ratio_l=[\")\n",
    "output.write(','.join([str(sum(r[1:5])/16) for r in random_result])+'\\n')\n",
    "output.write(','.join([str(sum(g[1:5])/16) for g in greedy_result])+'\\n')\n",
    "output.write(','.join([str(sum(s[17:21])/16) for s in sac_result])+'];\\n')\n",
    "r=random_result[2]\n",
    "g=greedy_result[2]\n",
    "s=sac_result[2]\n",
    "output.write(\"delay_h15=[\")\n",
    "output.write(','.join([str(i) for i in r[13:17]/r[9:13]])+'\\n')\n",
    "output.write(','.join([str(i) for i in g[13:17]/g[9:13]])+'\\n')\n",
    "output.write(','.join([str(i) for i in s[13:17]/s[9:13]])+'];\\n')\n",
    "output.write(\"delay_l15=[\")\n",
    "output.write(','.join([str(i) for i in r[5:9]/r[1:5]])+'\\n')\n",
    "output.write(','.join([str(i) for i in g[5:9]/g[1:5]])+'\\n')\n",
    "output.write(','.join([str(i) for i in s[5:9]/s[17:21]])+'];\\n')\n",
    "r=random_result[6]\n",
    "g=greedy_result[6]\n",
    "s=sac_result[6]\n",
    "output.write(\"delay_h35=[\")\n",
    "output.write(','.join([str(i) for i in r[13:17]/r[9:13]])+'\\n')\n",
    "output.write(','.join([str(i) for i in g[13:17]/g[9:13]])+'\\n')\n",
    "output.write(','.join([str(i) for i in s[13:17]/s[9:13]])+'];\\n')\n",
    "output.write(\"delay_l35=[\")\n",
    "output.write(','.join([str(i) for i in r[5:9]/r[1:5]])+'\\n')\n",
    "output.write(','.join([str(i) for i in g[5:9]/g[1:5]])+'\\n')\n",
    "output.write(','.join([str(i) for i in s[5:9]/s[17:21]])+'];\\n')\n",
    "\n",
    "output.close()"
   ]
  },
  {
   "cell_type": "code",
   "execution_count": 215,
   "metadata": {
    "scrolled": true
   },
   "outputs": [],
   "source": [
    "file_random=\"../random_change.txt\"\n",
    "file_greedy=\"../greedy_change.txt\"\n",
    "\n",
    "with open(file_random) as f:\n",
    "    random_tmp=f.read().split(\"task_num\")[1:]\n",
    "with open(file_greedy) as f:\n",
    "    greedy_tmp=f.read().split(\"task_num\")[1:]\n",
    "\n",
    "random_result=[]\n",
    "greedy_result=[]\n",
    "for i in range(8):\n",
    "    random_item = np.array([0.0]*17)\n",
    "    greedy_item = np.array([0.0]*17)\n",
    "    for j in range(100):\n",
    "        random = random_tmp[j*8+i].split('\\n')[2:-1]\n",
    "        tmp=np.array([0.0]*17)\n",
    "        utility=-999\n",
    "        random_result_tmp=\"\"\n",
    "        for k in random:\n",
    "            if float(k.split(' ')[0])>utility:\n",
    "                utility = float(k.split(' ')[0])\n",
    "                random_result_tmp=k\n",
    "        random_item+=np.array([float(r) for r in random_result_tmp.split(' ')[:-1]])\n",
    "        greedy = greedy_tmp[j*8+i].split('\\n')[3]\n",
    "        greedy_item+=np.array([float(g) for g in greedy.split(' ')[:-1]])\n",
    "    random_result.append(random_item/100/(i+1)/8)\n",
    "    greedy_result.append(greedy_item/100/(i+1)/8)\n",
    "\n",
    "sac_result=np.array([[0.0]*21]*8)\n",
    "for i in range(1,6):\n",
    "    with open(\"../sac_change{}.txt\".format(i)) as f:\n",
    "        sac_tmp=f.read().split(\"num_vehicles\")[1:]\n",
    "    for j in range(8):\n",
    "        sac=sac_tmp[j].split('\\n')[10:-1]\n",
    "        utility=-999\n",
    "        sac_result_tmp=\"\"\n",
    "        for s in sac:\n",
    "            if float(s.split(' ')[0])>utility:\n",
    "                utility = float(s.split(' ')[0])\n",
    "                sac_result_tmp=s\n",
    "        tmp=np.array([float(s) for s in sac_result_tmp.split(' ')[:-1]]+[0]*4)\n",
    "        tmp[0]=tmp[0]/8/(j+1)\n",
    "        sac_result[j]+=tmp\n",
    "sac_result=np.array([i/5 for i in sac_result])\n",
    "\n",
    "with open(output_file,'a') as output:\n",
    "    output.write(\"utility_t=[\\n\")\n",
    "    output.write(','.join([str(r[0]) for r in random_result])+'\\n')\n",
    "    output.write(','.join([str(g[0]) for g in greedy_result])+'\\n')\n",
    "    output.write(','.join([str(s[0]) for s in sac_result])+'];\\n')"
   ]
  },
  {
   "cell_type": "code",
   "execution_count": 202,
   "metadata": {},
   "outputs": [
    {
     "data": {
      "text/plain": [
       "800"
      ]
     },
     "execution_count": 202,
     "metadata": {},
     "output_type": "execute_result"
    }
   ],
   "source": [
    "j*10+i"
   ]
  },
  {
   "cell_type": "code",
   "execution_count": 231,
   "metadata": {
    "scrolled": true
   },
   "outputs": [
    {
     "name": "stdout",
     "output_type": "stream",
     "text": [
      "[ 3.82555882  2.          2.5         1.25        2.          2.15549026\n",
      "  3.50503479 10.69433185 14.88648285  4.          4.          4.\n",
      "  4.          1.00372448  1.83470494  3.15739316  5.77229496  4.\n",
      "  4.          4.          4.        ]\n"
     ]
    }
   ],
   "source": [
    "sac_result1=np.array([[0.0]*21]*2)\n",
    "for file in [1,2,3,5]:\n",
    "    with open(\"../sac_tmp{}.txt\".format(file)) as f:\n",
    "        sac_tmp=f.read().split(\"num_vehicles\")\n",
    "    for i in range(2):\n",
    "        sac=sac_tmp[i+1].split('\\n')[10:-1]\n",
    "        utility=-999\n",
    "        sac_result_tmp=\"\"\n",
    "        for s in sac:\n",
    "            if float(s.split(' ')[0])>utility:\n",
    "                utility = float(s.split(' ')[0])\n",
    "                sac_result_tmp=s\n",
    "        tmp=np.array([float(s) for s in sac_result_tmp.split(' ')[:-1]]+[0]*4)\n",
    "        for n in range(4):\n",
    "            tmp[n+17]=4-tmp[n+5]//1000\n",
    "            tmp[n+5]=tmp[n+5]-(4-tmp[n+17])*1000\n",
    "        sac_result1[i]+=tmp\n",
    "sac_result1=sac_result1/4\n",
    "print(sac_result1[0])"
   ]
  },
  {
   "cell_type": "code",
   "execution_count": 222,
   "metadata": {},
   "outputs": [
    {
     "data": {
      "text/plain": [
       "[3.25207039122058,\n",
       " 3.0,\n",
       " 2.0,\n",
       " 0.0,\n",
       " 3.0,\n",
       " 1.3726403169249934,\n",
       " 3.097937107048839,\n",
       " 9.449850177768866,\n",
       " 11.474861504552596,\n",
       " 4.0,\n",
       " 4.0,\n",
       " 4.0,\n",
       " 4.0,\n",
       " 0.9488268107037421,\n",
       " 1.5890556451029125,\n",
       " 2.7446123236480435,\n",
       " 8.78399929678733]"
      ]
     },
     "execution_count": 222,
     "metadata": {},
     "output_type": "execute_result"
    }
   ],
   "source": [
    "[float(k) for k in sac_result_tmp.split(' ')[:-1]]"
   ]
  },
  {
   "cell_type": "code",
   "execution_count": 181,
   "metadata": {},
   "outputs": [
    {
     "name": "stdout",
     "output_type": "stream",
     "text": [
      "1\n",
      "4505\n",
      "8004\n",
      "8004\n",
      "8004\n",
      "8004\n",
      "8004\n",
      "8004\n"
     ]
    }
   ],
   "source": [
    "for i in sac_tmp:\n",
    "    print(len(i.split('\\n')))"
   ]
  },
  {
   "cell_type": "code",
   "execution_count": 130,
   "metadata": {},
   "outputs": [],
   "source": [
    "with open(file_random) as f:\n",
    "    random_tmp=f.read().split(\"num_vehicles\")[1:]\n",
    "with open(file_greedy) as f:\n",
    "    greedy_tmp=f.read().split(\"num_vehicles\")[1:]\n",
    "\n",
    "random_result=[]\n",
    "greedy_result=[]\n",
    "for i in range(10):\n",
    "    random_item = np.array([0.0]*17)\n",
    "    greedy_item = np.array([0.0]*17)\n",
    "    for j in range(100):\n",
    "        random = random_tmp[j*10+i].split('\\n')[2:-1]\n",
    "        tmp=np.array([0.0]*17)\n",
    "        utility=-999\n",
    "        random_result_tmp=\"\"\n",
    "        for k in random:\n",
    "            if float(k.split(' ')[0])>utility:\n",
    "                utility = float(k.split(' ')[0])\n",
    "                random_result_tmp=k\n",
    "        random_item+=np.array([float(r) for r in random_result_tmp.split(' ')[:-1]])\n",
    "        greedy = greedy_tmp[j*10+i].split('\\n')[3]\n",
    "        greedy_item+=np.array([float(g) for g in greedy.split(' ')[:-1]])\n",
    "    random_result.append(random_item/100)\n",
    "    greedy_result.append(greedy_item/100)"
   ]
  },
  {
   "cell_type": "code",
   "execution_count": null,
   "metadata": {},
   "outputs": [],
   "source": []
  }
 ],
 "metadata": {
  "kernelspec": {
   "display_name": "Python 3",
   "language": "python",
   "name": "python3"
  },
  "language_info": {
   "codemirror_mode": {
    "name": "ipython",
    "version": 3
   },
   "file_extension": ".py",
   "mimetype": "text/x-python",
   "name": "python",
   "nbconvert_exporter": "python",
   "pygments_lexer": "ipython3",
   "version": "3.7.6"
  }
 },
 "nbformat": 4,
 "nbformat_minor": 4
}
