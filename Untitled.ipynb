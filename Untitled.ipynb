{
 "cells": [
  {
   "cell_type": "code",
   "execution_count": 159,
   "metadata": {
    "scrolled": false
   },
   "outputs": [],
   "source": [
    "import numpy as np\n",
    "\n",
    "file_sac=\"../sac.txt\"\n",
    "file_random=\"../random.txt\"\n",
    "file_greedy=\"../greedy.txt\"\n",
    "output_file=\"../plot.txt\"\n",
    "\n",
    "with open(file_random) as f:\n",
    "    random_tmp=f.read().split(\"num_vehicles\")[1:]\n",
    "with open(file_greedy) as f:\n",
    "    greedy_tmp=f.read().split(\"num_vehicles\")[1:]\n",
    "\n",
    "random_result=[]\n",
    "greedy_result=[]\n",
    "for i in range(10):\n",
    "    random_item = np.array([0.0]*17)\n",
    "    greedy_item = np.array([0.0]*17)\n",
    "    for j in range(100):\n",
    "        random = random_tmp[j*10+i].split('\\n')[2:-1]\n",
    "        tmp=np.array([0.0]*17)\n",
    "        utility=-999\n",
    "        random_result_tmp=\"\"\n",
    "        for k in random:\n",
    "            if float(k.split(' ')[0])>utility:\n",
    "                utility = float(k.split(' ')[0])\n",
    "                random_result_tmp=k\n",
    "        random_item+=np.array([float(r) for r in random_result_tmp.split(' ')[:-1]])\n",
    "        greedy = greedy_tmp[j*10+i].split('\\n')[3]\n",
    "        greedy_item+=np.array([float(g) for g in greedy.split(' ')[:-1]])\n",
    "    random_result.append(random_item/100)\n",
    "    greedy_result.append(greedy_item/100)\n",
    "\n",
    "sac_result=np.array([[0.0]*21]*10)\n",
    "for i in range(1,6):\n",
    "    with open(\"../sac{}.txt\".format(i)) as f:\n",
    "        sac_tmp=f.read().split(\"num_vehicles\")[1:]\n",
    "    for j in range(10):\n",
    "        sac=sac_tmp[j].split('\\n')[10:-1]\n",
    "        utility=-999\n",
    "        sac_result_tmp=\"\"\n",
    "        for s in sac:\n",
    "            if float(s.split(' ')[0])>utility:\n",
    "                utility = float(s.split(' ')[0])\n",
    "                sac_result_tmp=s\n",
    "        tmp=np.array([float(s) for s in sac_result_tmp.split(' ')[:-1]]+[0]*4)\n",
    "        for n in range(4):\n",
    "            tmp[n+17]=4-tmp[n+5]//1000\n",
    "            tmp[n+5]=tmp[n+5]-(4-tmp[n+17])*1000\n",
    "        sac_result[j]+=tmp\n",
    "sac_result=np.array([i/5 for i in sac_result])\n",
    "\n",
    "output=open(output_file,'w+')\n",
    "# output.write(\"utility to density:\\n\")\n",
    "output.write(','.join([str(r[0]) for r in random_result])+'\\n')\n",
    "output.write(','.join([str(g[0]) for g in greedy_result])+'\\n')\n",
    "output.write(','.join([str(s[0]) for s in sac_result])+'\\n')\n",
    "# output.write(\"completion ratio comparison:\\n\")\n",
    "output.write(','.join([str((sum(r[1:5])+sum(r[9:13]))/32) for r in random_result])+'\\n')\n",
    "output.write(','.join([str((sum(g[1:5])+sum(g[9:13]))/32) for g in greedy_result])+'\\n')\n",
    "output.write(','.join([str((sum(s[17:21])+sum(s[9:13]))/32) for s in sac_result])+'\\n')\n",
    "# output.write(\"completion ratio to priority:\\n\")\n",
    "output.write(','.join([str(sum(s[1:5])/16) for s in sac_result])+'\\n')\n",
    "output.write(','.join([str(sum(s[17:21])/16) for s in sac_result])+'\\n')\n",
    "output.write(','.join([str(sum(s[9:13])/16) for s in sac_result])+'\\n')\n",
    "# output.write(\"average lantency comparison N_v=10:\\n\")\n",
    "r=random_result[1]\n",
    "g=greedy_result[1]\n",
    "s=sac_result[1]\n",
    "output.write(','.join([str(i) for i in (r[5:9]+r[13:17])/(r[1:5]+r[9:13])])+'\\n')\n",
    "output.write(','.join([str(i) for i in (g[5:9]+g[13:17])/(g[1:5]+g[9:13])])+'\\n')\n",
    "output.write(','.join([str(i) for i in (s[5:9]+s[13:17])/(s[17:21]+s[9:13])])+'\\n')\n",
    "# output.write(\"average lantency comparison N_v=35:\\n\")\n",
    "r=random_result[6]\n",
    "g=greedy_result[6]\n",
    "s=sac_result[6]\n",
    "output.write(','.join([str(i) for i in (r[5:9]+r[13:17])/(r[1:5]+r[9:13])])+'\\n')\n",
    "output.write(','.join([str(i) for i in (g[5:9]+g[13:17])/(g[1:5]+g[9:13])])+'\\n')\n",
    "output.write(','.join([str(i) for i in (s[5:9]+s[13:17])/(s[17:21]+s[9:13])])+'\\n')\n",
    "# output.write(\"average latency to priority N_v=10:\\n\")\n",
    "s=sac_result[1]\n",
    "output.write(','.join([str(i) for i in s[5:9]/s[17:21]])+'\\n')\n",
    "output.write(','.join([str(i) for i in s[13:17]/s[9:13]])+'\\n')\n",
    "# output.write(\"average latency to priority N_v=35:\\n\")\n",
    "s=sac_result[6]\n",
    "output.write(','.join([str(i) for i in s[5:9]/s[17:21]])+'\\n')\n",
    "output.write(','.join([str(i) for i in s[13:17]/s[9:13]])+'\\n')\n",
    "# output.write(\"utility to number of tasks:\\n\")\n",
    "\n",
    "output.close()"
   ]
  },
  {
   "cell_type": "code",
   "execution_count": null,
   "metadata": {},
   "outputs": [],
   "source": []
  },
  {
   "cell_type": "code",
   "execution_count": 174,
   "metadata": {},
   "outputs": [
    {
     "name": "stdout",
     "output_type": "stream",
     "text": [
      "-21.268036943639792 0 2 0 0 61.55507022463489 1040.1374235722692 3039.7449368013836 4000 1 1 3 3 0.3091354946711015 0.6510587471034629 4.317890315188411 8.359671942448413 \n",
      "-4.285734582303043 1 2 0 1 2.919800848666627 9.572824964538208 17.631166664005868 42.57134784451098 4 4 4 4 1.137881686709588 2.7398648215326085 4.355593107201461 6.767767817497273 \n",
      "0.8699060742880166 1 3 1 0 2.3317313628578686 4.0956675095208075 1011.1230777970327 32.94161775144535 4 4 4 4 0.867810816168331 2.1239834892555978 3.651257165814652 6.876633925752775 \n",
      "4.464855432968582 2 4 2 4 1.81129318439518 1.388431726708354 6.9293038463913295 8.996288024253698 4 4 4 4 0.9255134243559653 2.745460418456174 3.8682040153378114 4.560690707733741 \n"
     ]
    }
   ],
   "source": [
    "for file in [\"../sac2.txt\"]:\n",
    "    with open(file) as f:\n",
    "        sac_tmp=f.read().split(\"num_vehicles\")\n",
    "    for i in range(1,5):\n",
    "        sac=sac_tmp[i].split('\\n')[10:-1]\n",
    "        utility=-999\n",
    "        sac_result_tmp=\"\"\n",
    "        for s in sac:\n",
    "            if float(s.split(' ')[0])>utility:\n",
    "                utility = float(s.split(' ')[0])\n",
    "                sac_result_tmp=s\n",
    "        print(sac_result_tmp)"
   ]
  },
  {
   "cell_type": "code",
   "execution_count": 130,
   "metadata": {},
   "outputs": [],
   "source": [
    "with open(file_random) as f:\n",
    "    random_tmp=f.read().split(\"num_vehicles\")[1:]\n",
    "with open(file_greedy) as f:\n",
    "    greedy_tmp=f.read().split(\"num_vehicles\")[1:]\n",
    "\n",
    "random_result=[]\n",
    "greedy_result=[]\n",
    "for i in range(10):\n",
    "    random_item = np.array([0.0]*17)\n",
    "    greedy_item = np.array([0.0]*17)\n",
    "    for j in range(100):\n",
    "        random = random_tmp[j*10+i].split('\\n')[2:-1]\n",
    "        tmp=np.array([0.0]*17)\n",
    "        utility=-999\n",
    "        random_result_tmp=\"\"\n",
    "        for k in random:\n",
    "            if float(k.split(' ')[0])>utility:\n",
    "                utility = float(k.split(' ')[0])\n",
    "                random_result_tmp=k\n",
    "        random_item+=np.array([float(r) for r in random_result_tmp.split(' ')[:-1]])\n",
    "        greedy = greedy_tmp[j*10+i].split('\\n')[3]\n",
    "        greedy_item+=np.array([float(g) for g in greedy.split(' ')[:-1]])\n",
    "    random_result.append(random_item/100)\n",
    "    greedy_result.append(greedy_item/100)"
   ]
  },
  {
   "cell_type": "code",
   "execution_count": 134,
   "metadata": {},
   "outputs": [],
   "source": [
    "a=np.array([12,1011,2022,3031])"
   ]
  },
  {
   "cell_type": "code",
   "execution_count": 135,
   "metadata": {},
   "outputs": [
    {
     "data": {
      "text/plain": [
       "array([0, 1, 2, 3])"
      ]
     },
     "execution_count": 135,
     "metadata": {},
     "output_type": "execute_result"
    }
   ],
   "source": [
    "a//1000"
   ]
  },
  {
   "cell_type": "code",
   "execution_count": 136,
   "metadata": {},
   "outputs": [
    {
     "data": {
      "text/plain": [
       "0.0"
      ]
     },
     "execution_count": 136,
     "metadata": {},
     "output_type": "execute_result"
    }
   ],
   "source": [
    "231.1123//1000"
   ]
  },
  {
   "cell_type": "code",
   "execution_count": 137,
   "metadata": {},
   "outputs": [
    {
     "data": {
      "text/plain": [
       "1"
      ]
     },
     "execution_count": 137,
     "metadata": {},
     "output_type": "execute_result"
    }
   ],
   "source": [
    "1232//1000"
   ]
  },
  {
   "cell_type": "code",
   "execution_count": null,
   "metadata": {},
   "outputs": [],
   "source": []
  }
 ],
 "metadata": {
  "kernelspec": {
   "display_name": "Python 3",
   "language": "python",
   "name": "python3"
  },
  "language_info": {
   "codemirror_mode": {
    "name": "ipython",
    "version": 3
   },
   "file_extension": ".py",
   "mimetype": "text/x-python",
   "name": "python",
   "nbconvert_exporter": "python",
   "pygments_lexer": "ipython3",
   "version": "3.7.6"
  }
 },
 "nbformat": 4,
 "nbformat_minor": 4
}
