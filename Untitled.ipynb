{
 "cells": [
  {
   "cell_type": "code",
   "execution_count": 38,
   "metadata": {},
   "outputs": [],
   "source": [
    "import numpy as np\n",
    "\n",
    "file_sac=\"../sac.txt\"\n",
    "file_random=\"../random.txt\"\n",
    "file_greedy=\"../greedy.txt\"\n",
    "output_file=\"../plot.txt\"\n",
    "\n",
    "with open(file_random) as f:\n",
    "    random_tmp=f.read().split(\"num_vehicles\")[1:]\n",
    "with open(file_greedy) as f:\n",
    "    greedy_tmp=f.read().split(\"num_vehicles\")[1:]\n",
    "with open(file_sac) as f:\n",
    "    sac_tmp=f.read().split(\"num_vehicles\")[1:]\n",
    "\n",
    "random_result=[]\n",
    "greedy_result=[]\n",
    "for i in range(10):\n",
    "    random_item = np.array([0.0]*17)\n",
    "    greedy_item = np.array([0.0]*17)\n",
    "    for j in range(100):\n",
    "        random = random_tmp[j*10+i].split('\\n')[2:-1]\n",
    "        tmp=np.array([0.0]*17)\n",
    "        for k in random:\n",
    "            tmp+=np.array([float(r) for r in k.split(' ')[:-1]])\n",
    "        random_item+=tmp/len(random)\n",
    "        greedy = greedy_tmp[j*10+i].split('\\n')[3]\n",
    "        greedy_item+=np.array([float(g) for g in greedy.split(' ')[:-1]])\n",
    "    random_result.append(random_item/100)\n",
    "    greedy_result.append(greedy_item/100)\n",
    "\n",
    "sac_result=[]\n",
    "for i in range(10):\n",
    "    sac=sac_tmp[i].split('\\n')[10:-1]\n",
    "    utility=-999\n",
    "    sac_result_tmp=\"\"\n",
    "    for s in sac:\n",
    "        if float(s.split(' ')[0])>utility:\n",
    "            utility = float(s.split(' ')[0])\n",
    "            sac_result_tmp=s\n",
    "    sac_result.append(np.array([float(s) for s in sac_result_tmp.split(' ')[:-1]]))\n",
    "\n",
    "output=open(output_file,'w+')\n",
    "output.write(\"utility to density:\\n\")\n",
    "output.write(' '.join([str(r[0]) for r in random_result])+'\\n')\n",
    "output.write(' '.join([str(g[0]) for g in greedy_result])+'\\n')\n",
    "output.write(' '.join([str(s[0]) for s in sac_result])+'\\n')\n",
    "output.write(\"completion ratio comparison:\\n\")\n",
    "output.write(' '.join([str((sum(r[1:5])+sum(r[9:13]))/32) for r in random_result])+'\\n')\n",
    "output.write(' '.join([str((sum(g[1:5])+sum(g[9:13]))/32) for g in greedy_result])+'\\n')\n",
    "output.write(' '.join([str((sum(s[1:5])+sum(s[9:13]))/32) for s in sac_result])+'\\n')\n",
    "output.write(\"completion ratio to priority:\\n\")\n",
    "output.write(' '.join([str(sum(s[1:5])/16) for s in sac_result])+'\\n')\n",
    "output.write(' '.join([str(sum(s[9:13])/16) for s in sac_result])+'\\n')\n",
    "output.write(\"average lantency comparison N_v=10:\\n\")\n",
    "r=random_result[1]\n",
    "g=greedy_result[1]\n",
    "s=sac_result[1]\n",
    "output.write(' '.join([str(i) for i in (r[5:9]+r[13:17])/(r[1:5]+r[9:13])])+'\\n')\n",
    "output.write(' '.join([str(i) for i in (g[5:9]+g[13:17])/(g[1:5]+g[9:13])])+'\\n')\n",
    "output.write(' '.join([str(i) for i in (s[5:9]+s[13:17])/(s[1:5]+s[9:13])])+'\\n')\n",
    "output.write(\"average lantency comparison N_v=35:\\n\")\n",
    "r=random_result[6]\n",
    "g=greedy_result[6]\n",
    "s=sac_result[6]\n",
    "output.write(' '.join([str(i) for i in (r[5:9]+r[13:17])/(r[1:5]+r[9:13])])+'\\n')\n",
    "output.write(' '.join([str(i) for i in (g[5:9]+g[13:17])/(g[1:5]+g[9:13])])+'\\n')\n",
    "output.write(' '.join([str(i) for i in (s[5:9]+s[13:17])/(s[1:5]+s[9:13])])+'\\n')\n",
    "output.write(\"average latency to priority N_v=10:\\n\")\n",
    "s=sac_result[1]\n",
    "output.write(' '.join([str(i) for i in s[5:9]/s[1:5]])+'\\n')\n",
    "output.write(' '.join([str(i) for i in s[13:17]/s[9:13]])+'\\n')\n",
    "output.write(\"average latency to priority N_v=35:\\n\")\n",
    "s=sac_result[6]\n",
    "output.write(' '.join([str(i) for i in s[5:9]/s[1:5]])+'\\n')\n",
    "output.write(' '.join([str(i) for i in s[13:17]/s[9:13]])+'\\n')\n",
    "output.write(\"utility to number of tasks:\\n\")\n",
    "\n",
    "output.close()"
   ]
  },
  {
   "cell_type": "code",
   "execution_count": 40,
   "metadata": {},
   "outputs": [],
   "source": [
    "import matplotlib.pyplot as plt"
   ]
  },
  {
   "cell_type": "code",
   "execution_count": 100,
   "metadata": {},
   "outputs": [
    {
     "name": "stdout",
     "output_type": "stream",
     "text": [
      "-18.358806472499257 0 0 0 1 164.78348954781998 1041.8819497928284 2047.313693527607 3003.4798277668388 1 2 4 1 0.29889470159426856 1.2640988931404404 6.02118212978565 2.6823437535872823 \n",
      "3.4433993205161766 2 2 0 3 2.406596238293856 3.538581476725698 18.19664477255357 9.939137501919863 4 4 4 3 1.0933207593403425 1.0932544905916206 2.6209885276423277 5.706853847956135 \n",
      "6.84268412009401 4 3 2 4 0.9025275243986812 2.5473574439187647 5.088652972222433 8.086061666405417 4 4 4 3 0.8267779489090228 1.0025322934874779 1.7796852875826943 4.2562656198009 \n"
     ]
    }
   ],
   "source": [
    "for file in [\"../sac5.txt\",\"../sac20.txt\",\"../sac50.txt\"]:\n",
    "    with open(file) as f:\n",
    "        sac_tmp=f.read().split(\"num_vehicles\")[1]\n",
    "    sac=sac_tmp.split('\\n')[10:-1]\n",
    "    utility=-999\n",
    "    sac_result_tmp=\"\"\n",
    "    for s in sac:\n",
    "        if float(s.split(' ')[0])>utility:\n",
    "            utility = float(s.split(' ')[0])\n",
    "            sac_result_tmp=s\n",
    "    print(sac_result_tmp)"
   ]
  },
  {
   "cell_type": "code",
   "execution_count": 45,
   "metadata": {},
   "outputs": [
    {
     "data": {
      "text/plain": [
       "7993"
      ]
     },
     "execution_count": 45,
     "metadata": {},
     "output_type": "execute_result"
    }
   ],
   "source": [
    "len(sac)"
   ]
  },
  {
   "cell_type": "code",
   "execution_count": null,
   "metadata": {},
   "outputs": [],
   "source": []
  }
 ],
 "metadata": {
  "kernelspec": {
   "display_name": "Python 3",
   "language": "python",
   "name": "python3"
  },
  "language_info": {
   "codemirror_mode": {
    "name": "ipython",
    "version": 3
   },
   "file_extension": ".py",
   "mimetype": "text/x-python",
   "name": "python",
   "nbconvert_exporter": "python",
   "pygments_lexer": "ipython3",
   "version": "3.7.6"
  }
 },
 "nbformat": 4,
 "nbformat_minor": 4
}
